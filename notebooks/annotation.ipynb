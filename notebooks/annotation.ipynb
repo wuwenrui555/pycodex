{
 "cells": [
  {
   "cell_type": "code",
   "execution_count": 1,
   "id": "c5a7ec6a",
   "metadata": {},
   "outputs": [],
   "source": [
    "import tifffile\n",
    "import matplotlib.pyplot as plt\n",
    "from pycodex.annotation import create_rgb_annotation, add_legend\n",
    "import numpy as np"
   ]
  },
  {
   "cell_type": "markdown",
   "id": "650ee338",
   "metadata": {},
   "source": [
    "# 01. Plot Annotation"
   ]
  },
  {
   "cell_type": "code",
   "execution_count": 2,
   "id": "e69bcdca",
   "metadata": {},
   "outputs": [],
   "source": [
    "segmentation_mask = tifffile.imread(\n",
    "    \"../demo/data/segmentation_mask/segmentation_mask.tiff\"\n",
    ")\n",
    "color_dict = {\n",
    "    \"Fibroblast\": \"#0781be\",\n",
    "    \"Immune\": \"#f5eb00\",\n",
    "    \"Others\": \"#808080\",\n",
    "    \"Endothelial\": \"#9f4d9d\",\n",
    "    \"Epithelial\": \"#f47621\",\n",
    "}\n",
    "unique_labels = np.unique(segmentation_mask)\n",
    "unique_labels = unique_labels[unique_labels != 0]"
   ]
  },
  {
   "cell_type": "code",
   "execution_count": 3,
   "id": "5ee025ac",
   "metadata": {},
   "outputs": [
    {
     "data": {
      "text/plain": [
       "{72770: 'Fibroblast',\n",
       " 72790: 'Fibroblast',\n",
       " 72953: 'Others',\n",
       " 73009: 'Fibroblast',\n",
       " 73063: 'Epithelial',\n",
       " 73082: 'Fibroblast',\n",
       " 73155: 'Others',\n",
       " 73203: 'Immune',\n",
       " 73339: 'Epithelial',\n",
       " 73358: 'Fibroblast',\n",
       " 73359: 'Immune',\n",
       " 73377: 'Immune',\n",
       " 73406: 'Immune',\n",
       " 73407: 'Fibroblast',\n",
       " 73452: 'Others',\n",
       " 73655: 'Fibroblast',\n",
       " 73656: 'Others',\n",
       " 73728: 'Fibroblast',\n",
       " 73800: 'Immune',\n",
       " 73801: 'Others',\n",
       " 73880: 'Epithelial',\n",
       " 73900: 'Fibroblast',\n",
       " 73926: 'Fibroblast',\n",
       " 73976: 'Endothelial',\n",
       " 74057: 'Fibroblast',\n",
       " 74160: 'Epithelial',\n",
       " 74233: 'Others',\n",
       " 74312: 'Immune',\n",
       " 74313: 'Epithelial',\n",
       " 74342: 'Endothelial',\n",
       " 74343: 'Immune',\n",
       " 74465: 'Epithelial',\n",
       " 74466: 'Immune',\n",
       " 74530: 'Endothelial',\n",
       " 74749: 'Others',\n",
       " 74839: 'Epithelial',\n",
       " 74952: 'Immune',\n",
       " 74971: 'Immune',\n",
       " 75008: 'Endothelial',\n",
       " 75096: 'Others',\n",
       " 75167: 'Endothelial',\n",
       " 75207: 'Endothelial',\n",
       " 75380: 'Endothelial',\n",
       " 75436: 'Epithelial',\n",
       " 75476: 'Others',\n",
       " 75477: 'Endothelial',\n",
       " 75537: 'Immune',\n",
       " 75685: 'Fibroblast',\n",
       " 75707: 'Endothelial',\n",
       " 75708: 'Fibroblast',\n",
       " 75733: 'Epithelial',\n",
       " 75840: 'Epithelial'}"
      ]
     },
     "execution_count": 3,
     "metadata": {},
     "output_type": "execute_result"
    }
   ],
   "source": [
    "import random\n",
    "random.seed(123)\n",
    "annotations = random.choices(\n",
    "    list(color_dict.keys()),\n",
    "    k=len(unique_labels),\n",
    ")\n",
    "annotation_dict = dict(zip(unique_labels, annotations))\n",
    "annotation_dict"
   ]
  },
  {
   "cell_type": "code",
   "execution_count": 4,
   "id": "539e25d9",
   "metadata": {},
   "outputs": [
    {
     "name": "stderr",
     "output_type": "stream",
     "text": [
      "Mapping labels to colors: 100%|██████████████████████████████| 52/52 [00:00<00:00, 381968.14it/s]\n"
     ]
    },
    {
     "data": {
      "text/plain": [
       "<Axes: >"
      ]
     },
     "execution_count": 4,
     "metadata": {},
     "output_type": "execute_result"
    },
    {
     "data": {
      "image/png": "[encoded data removed]",
      "text/plain": [
       "<Figure size 640x480 with 1 Axes>"
      ]
     },
     "metadata": {},
     "output_type": "display_data"
    }
   ],
   "source": [
    "rgb_image = create_rgb_annotation(\n",
    "    segmentation_mask,\n",
    "    annotation_dict=annotation_dict,\n",
    "    color_dict=color_dict,\n",
    "    outline=False,\n",
    ")\n",
    "\n",
    "fig, ax = plt.subplots()\n",
    "ax.imshow(rgb_image)\n",
    "ax.axis(\"off\")\n",
    "add_legend(color_dict, ax=ax)\n"
   ]
  },
  {
   "cell_type": "code",
   "execution_count": 5,
   "id": "3190b911",
   "metadata": {},
   "outputs": [
    {
     "name": "stderr",
     "output_type": "stream",
     "text": [
      "Mapping labels to colors: 100%|██████████████████████████████| 52/52 [00:00<00:00, 362901.51it/s]\n"
     ]
    },
    {
     "data": {
      "text/plain": [
       "<Axes: >"
      ]
     },
     "execution_count": 5,
     "metadata": {},
     "output_type": "execute_result"
    },
    {
     "data": {
      "image/png": "[encoded data removed]",
      "text/plain": [
       "<Figure size 640x480 with 1 Axes>"
      ]
     },
     "metadata": {},
     "output_type": "display_data"
    }
   ],
   "source": [
    "rgb_image = create_rgb_annotation(\n",
    "    segmentation_mask,\n",
    "    annotation_dict=annotation_dict,\n",
    "    color_dict=color_dict,\n",
    "    outline=True\n",
    ")\n",
    "\n",
    "fig, ax = plt.subplots()\n",
    "ax.imshow(rgb_image)\n",
    "ax.axis(\"off\")\n",
    "add_legend(color_dict, ax=ax)"
   ]
  }
 ],
 "metadata": {
  "kernelspec": {
   "display_name": "pycodex_3.10",
   "language": "python",
   "name": "python3"
  },
  "language_info": {
   "codemirror_mode": {
    "name": "ipython",
    "version": 3
   },
   "file_extension": ".py",
   "mimetype": "text/x-python",
   "name": "python",
   "nbconvert_exporter": "python",
   "pygments_lexer": "ipython3",
   "version": "3.10.17"
  }
 },
 "nbformat": 4,
 "nbformat_minor": 5
}
