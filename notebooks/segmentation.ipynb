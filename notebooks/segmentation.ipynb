{
 "cells": [
  {
   "cell_type": "code",
   "execution_count": 1,
   "id": "48fe9026",
   "metadata": {},
   "outputs": [
    {
     "name": "stdout",
     "output_type": "stream",
     "text": [
      "Using GPU(s): ['/physical_device:GPU:0']\n"
     ]
    }
   ],
   "source": [
    "from pycodex.segmentation import run_segmentation_mesmer_cell\n",
    "from pycodex.io import setup_gpu\n",
    "from pathlib import Path\n",
    "\n",
    "setup_gpu(\"1\")"
   ]
  },
  {
   "cell_type": "code",
   "execution_count": 2,
   "id": "5ee942ae",
   "metadata": {},
   "outputs": [
    {
     "name": "stdout",
     "output_type": "stream",
     "text": [
      "\u001b[01;34m../demo/data/segmentation/reg001\u001b[00m\n",
      "└── reg001.ome.tiff\n",
      "\n",
      "0 directories, 1 file\n"
     ]
    }
   ],
   "source": [
    "unit_dir = Path(\"../demo/data/segmentation/reg001/\")\n",
    "!tree {unit_dir}"
   ]
  },
  {
   "cell_type": "code",
   "execution_count": 3,
   "id": "7502cca1",
   "metadata": {},
   "outputs": [
    {
     "name": "stderr",
     "output_type": "stream",
     "text": [
      "INFO:root:OME-TIFF file loaded: ../demo/data/segmentation/reg001/reg001.ome.tiff.\n"
     ]
    },
    {
     "name": "stdout",
     "output_type": "stream",
     "text": [
      "\n",
      "Logging is configured. Logs are saved to: ../demo/data/segmentation/reg001/20250530_010550/segmentation.log and displayed in the console.\n"
     ]
    },
    {
     "name": "stderr",
     "output_type": "stream",
     "text": [
      "2025-05-30 01:05:52.229335: I tensorflow/core/platform/cpu_feature_guard.cc:151] This TensorFlow binary is optimized with oneAPI Deep Neural Network Library (oneDNN) to use the following CPU instructions in performance-critical operations:  AVX2 AVX512F FMA\n",
      "To enable them in other operations, rebuild TensorFlow with the appropriate compiler flags.\n",
      "2025-05-30 01:05:52.733346: I tensorflow/core/common_runtime/gpu/gpu_device.cc:1525] Created device /job:localhost/replica:0/task:0/device:GPU:0 with 22221 MB memory:  -> device: 0, name: NVIDIA RTX A5000, pci bus id: 0000:4b:00.0, compute capability: 8.6\n"
     ]
    },
    {
     "name": "stdout",
     "output_type": "stream",
     "text": [
      "WARNING:tensorflow:No training configuration found in save file, so the model was *not* compiled. Compile it manually.\n"
     ]
    },
    {
     "name": "stderr",
     "output_type": "stream",
     "text": [
      "WARNING:tensorflow:No training configuration found in save file, so the model was *not* compiled. Compile it manually.\n",
      "2025-05-30 01:05:57,694 - WARNING - No training configuration found in save file, so the model was *not* compiled. Compile it manually.\n",
      "2025-05-30 01:05:59.320397: I tensorflow/stream_executor/cuda/cuda_dnn.cc:368] Loaded cuDNN version 8100\n",
      "2025-05-30 01:05:59.992541: I tensorflow/core/platform/default/subprocess.cc:304] Start cannot spawn child process: No such file or directory\n",
      "INFO:root:Segmentation completed.\n",
      "Writing tiles: 100%|██████████| 21/21 [00:00<00:00, 216.83it/s]\n",
      "INFO:root:Markers used for segmentation saved as OME-TIFF.\n",
      "INFO:root:Single-cell features extracted.\n"
     ]
    }
   ],
   "source": [
    "internal_markers = [\"DAPI\"]\n",
    "boundary_markers = [\"CD45\", \"CD3e\", \"CD163\", \"NaKATP\"]\n",
    "thresh_q_min = 0\n",
    "thresh_q_max = 0.99\n",
    "thresh_otsu = False\n",
    "scale = True\n",
    "pixel_size_um = 0.5068164319979996\n",
    "maxima_threshold = 0.075\n",
    "interior_threshold = 0.20\n",
    "\n",
    "tag = None\n",
    "run_segmentation_mesmer_cell(\n",
    "    unit_dir=unit_dir,\n",
    "    internal_markers=internal_markers,\n",
    "    boundary_markers=boundary_markers,\n",
    "    thresh_q_min=thresh_q_min,\n",
    "    thresh_q_max=thresh_q_max,\n",
    "    thresh_otsu=thresh_otsu,\n",
    "    scale=scale,\n",
    "    pixel_size_um=pixel_size_um,\n",
    "    maxima_threshold=maxima_threshold,\n",
    "    interior_threshold=interior_threshold,\n",
    "    tag=tag,\n",
    ")"
   ]
  },
  {
   "cell_type": "code",
   "execution_count": 4,
   "id": "a792c6cc",
   "metadata": {},
   "outputs": [
    {
     "name": "stdout",
     "output_type": "stream",
     "text": [
      "\u001b[01;34m../demo/data/segmentation/reg001\u001b[00m\n",
      "├── \u001b[01;34m20250530_010550\u001b[00m\n",
      "│   ├── data.csv\n",
      "│   ├── dataScaleSize.csv\n",
      "│   ├── parameter_segmentation.json\n",
      "│   ├── segmentation.log\n",
      "│   ├── segmentation_markers.ome.tiff\n",
      "│   └── segmentation_mask.tiff\n",
      "└── reg001.ome.tiff\n",
      "\n",
      "1 directory, 7 files\n"
     ]
    }
   ],
   "source": [
    "!tree {unit_dir}"
   ]
  }
 ],
 "metadata": {
  "kernelspec": {
   "display_name": "pycodex_3.10",
   "language": "python",
   "name": "python3"
  },
  "language_info": {
   "codemirror_mode": {
    "name": "ipython",
    "version": 3
   },
   "file_extension": ".py",
   "mimetype": "text/x-python",
   "name": "python",
   "nbconvert_exporter": "python",
   "pygments_lexer": "ipython3",
   "version": "3.10.17"
  }
 },
 "nbformat": 4,
 "nbformat_minor": 5
}
